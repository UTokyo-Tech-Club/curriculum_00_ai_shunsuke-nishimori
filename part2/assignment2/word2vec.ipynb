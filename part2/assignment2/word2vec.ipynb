{
  "nbformat": 4,
  "nbformat_minor": 0,
  "metadata": {
    "colab": {
      "provenance": [],
      "gpuType": "T4"
    },
    "kernelspec": {
      "name": "python3",
      "display_name": "Python 3"
    },
    "language_info": {
      "name": "python"
    },
    "accelerator": "GPU"
  },
  "cells": [
    {
      "cell_type": "code",
      "execution_count": 1,
      "metadata": {
        "colab": {
          "base_uri": "https://localhost:8080/"
        },
        "id": "b9yLmA5rmj0p",
        "outputId": "18bdcfc9-096e-486a-c0fd-83162144beee"
      },
      "outputs": [
        {
          "output_type": "stream",
          "name": "stdout",
          "text": [
            "Collecting nltk==3.8.1\n",
            "  Downloading nltk-3.8.1-py3-none-any.whl.metadata (2.8 kB)\n",
            "Requirement already satisfied: click in /usr/local/lib/python3.10/dist-packages (from nltk==3.8.1) (8.1.7)\n",
            "Requirement already satisfied: joblib in /usr/local/lib/python3.10/dist-packages (from nltk==3.8.1) (1.4.2)\n",
            "Requirement already satisfied: regex>=2021.8.3 in /usr/local/lib/python3.10/dist-packages (from nltk==3.8.1) (2024.9.11)\n",
            "Requirement already satisfied: tqdm in /usr/local/lib/python3.10/dist-packages (from nltk==3.8.1) (4.66.6)\n",
            "Downloading nltk-3.8.1-py3-none-any.whl (1.5 MB)\n",
            "\u001b[?25l   \u001b[90m━━━━━━━━━━━━━━━━━━━━━━━━━━━━━━━━━━━━━━━━\u001b[0m \u001b[32m0.0/1.5 MB\u001b[0m \u001b[31m?\u001b[0m eta \u001b[36m-:--:--\u001b[0m\r\u001b[2K   \u001b[90m━━━━━━━━━━━━━━━━━━━━━━━━━━━━━━━━━━━━━━━━\u001b[0m \u001b[32m1.5/1.5 MB\u001b[0m \u001b[31m50.2 MB/s\u001b[0m eta \u001b[36m0:00:00\u001b[0m\n",
            "\u001b[?25hInstalling collected packages: nltk\n",
            "  Attempting uninstall: nltk\n",
            "    Found existing installation: nltk 3.9.1\n",
            "    Uninstalling nltk-3.9.1:\n",
            "      Successfully uninstalled nltk-3.9.1\n",
            "Successfully installed nltk-3.8.1\n",
            "Collecting gensim==4.3.1\n",
            "  Downloading gensim-4.3.1-cp310-cp310-manylinux_2_17_x86_64.manylinux2014_x86_64.whl.metadata (8.5 kB)\n",
            "Requirement already satisfied: numpy>=1.18.5 in /usr/local/lib/python3.10/dist-packages (from gensim==4.3.1) (1.26.4)\n",
            "Requirement already satisfied: scipy>=1.7.0 in /usr/local/lib/python3.10/dist-packages (from gensim==4.3.1) (1.13.1)\n",
            "Requirement already satisfied: smart-open>=1.8.1 in /usr/local/lib/python3.10/dist-packages (from gensim==4.3.1) (7.0.5)\n",
            "Requirement already satisfied: wrapt in /usr/local/lib/python3.10/dist-packages (from smart-open>=1.8.1->gensim==4.3.1) (1.16.0)\n",
            "Downloading gensim-4.3.1-cp310-cp310-manylinux_2_17_x86_64.manylinux2014_x86_64.whl (26.4 MB)\n",
            "\u001b[2K   \u001b[90m━━━━━━━━━━━━━━━━━━━━━━━━━━━━━━━━━━━━━━━━\u001b[0m \u001b[32m26.4/26.4 MB\u001b[0m \u001b[31m23.5 MB/s\u001b[0m eta \u001b[36m0:00:00\u001b[0m\n",
            "\u001b[?25hInstalling collected packages: gensim\n",
            "  Attempting uninstall: gensim\n",
            "    Found existing installation: gensim 4.3.3\n",
            "    Uninstalling gensim-4.3.3:\n",
            "      Successfully uninstalled gensim-4.3.3\n",
            "Successfully installed gensim-4.3.1\n",
            "Collecting scipy==1.10.1\n",
            "  Downloading scipy-1.10.1-cp310-cp310-manylinux_2_17_x86_64.manylinux2014_x86_64.whl.metadata (58 kB)\n",
            "\u001b[2K     \u001b[90m━━━━━━━━━━━━━━━━━━━━━━━━━━━━━━━━━━━━━━━━\u001b[0m \u001b[32m58.9/58.9 kB\u001b[0m \u001b[31m4.9 MB/s\u001b[0m eta \u001b[36m0:00:00\u001b[0m\n",
            "\u001b[?25hRequirement already satisfied: numpy<1.27.0,>=1.19.5 in /usr/local/lib/python3.10/dist-packages (from scipy==1.10.1) (1.26.4)\n",
            "Downloading scipy-1.10.1-cp310-cp310-manylinux_2_17_x86_64.manylinux2014_x86_64.whl (34.4 MB)\n",
            "\u001b[2K   \u001b[90m━━━━━━━━━━━━━━━━━━━━━━━━━━━━━━━━━━━━━━━━\u001b[0m \u001b[32m34.4/34.4 MB\u001b[0m \u001b[31m16.4 MB/s\u001b[0m eta \u001b[36m0:00:00\u001b[0m\n",
            "\u001b[?25hInstalling collected packages: scipy\n",
            "  Attempting uninstall: scipy\n",
            "    Found existing installation: scipy 1.13.1\n",
            "    Uninstalling scipy-1.13.1:\n",
            "      Successfully uninstalled scipy-1.13.1\n",
            "Successfully installed scipy-1.10.1\n"
          ]
        }
      ],
      "source": [
        "!pip install nltk==3.8.1\n",
        "!pip install gensim==4.3.1\n",
        "!pip install scipy==1.10.1"
      ]
    },
    {
      "cell_type": "code",
      "source": [
        "import nltk\n",
        "nltk.download('brown')"
      ],
      "metadata": {
        "colab": {
          "base_uri": "https://localhost:8080/"
        },
        "id": "TrYFiNV4m1Lw",
        "outputId": "d3769252-2232-4145-da5b-f5606ebb9576"
      },
      "execution_count": 2,
      "outputs": [
        {
          "output_type": "stream",
          "name": "stderr",
          "text": [
            "[nltk_data] Downloading package brown to /root/nltk_data...\n",
            "[nltk_data]   Unzipping corpora/brown.zip.\n"
          ]
        },
        {
          "output_type": "execute_result",
          "data": {
            "text/plain": [
              "True"
            ]
          },
          "metadata": {},
          "execution_count": 2
        }
      ]
    },
    {
      "cell_type": "code",
      "source": [
        "from nltk.corpus import brown\n",
        "brown.sents()"
      ],
      "metadata": {
        "colab": {
          "base_uri": "https://localhost:8080/"
        },
        "id": "M56W-hw7m2kq",
        "outputId": "ca9c308e-5b67-4fb7-ec47-d01e90ba14af"
      },
      "execution_count": 3,
      "outputs": [
        {
          "output_type": "execute_result",
          "data": {
            "text/plain": [
              "[['The', 'Fulton', 'County', 'Grand', 'Jury', 'said', 'Friday', 'an', 'investigation', 'of', \"Atlanta's\", 'recent', 'primary', 'election', 'produced', '``', 'no', 'evidence', \"''\", 'that', 'any', 'irregularities', 'took', 'place', '.'], ['The', 'jury', 'further', 'said', 'in', 'term-end', 'presentments', 'that', 'the', 'City', 'Executive', 'Committee', ',', 'which', 'had', 'over-all', 'charge', 'of', 'the', 'election', ',', '``', 'deserves', 'the', 'praise', 'and', 'thanks', 'of', 'the', 'City', 'of', 'Atlanta', \"''\", 'for', 'the', 'manner', 'in', 'which', 'the', 'election', 'was', 'conducted', '.'], ...]"
            ]
          },
          "metadata": {},
          "execution_count": 3
        }
      ]
    },
    {
      "cell_type": "code",
      "source": [
        "import gensim\n",
        "# vector_size=100で、単語ベクトルの次元数を100に指定しています。\n",
        "model = gensim.models.Word2Vec(brown.sents(), vector_size=100, seed=0, sg=1)"
      ],
      "metadata": {
        "id": "I3KVfCNhm42R"
      },
      "execution_count": 4,
      "outputs": []
    },
    {
      "cell_type": "code",
      "source": [
        "model.wv[\"mouth\"]"
      ],
      "metadata": {
        "colab": {
          "base_uri": "https://localhost:8080/"
        },
        "id": "makJGDSkm7rk",
        "outputId": "bbfa4bda-ce96-4996-9a39-da724a3367d5"
      },
      "execution_count": 5,
      "outputs": [
        {
          "output_type": "execute_result",
          "data": {
            "text/plain": [
              "array([ 3.75432044e-01,  4.65890378e-01,  2.21124023e-01, -4.89562780e-01,\n",
              "       -7.01506734e-02, -2.19767421e-01,  2.44590148e-01, -3.33237082e-01,\n",
              "        3.57294649e-01,  2.49194846e-01,  4.61624786e-02,  5.23110449e-01,\n",
              "       -7.08019063e-02,  1.25890225e-01, -1.60838962e-01, -6.92195073e-02,\n",
              "       -1.84843123e-01, -7.79773518e-02, -1.12113856e-01, -9.63470805e-03,\n",
              "       -1.77486446e-02,  5.66232353e-02,  3.14170234e-02, -1.52639493e-01,\n",
              "        6.55738771e-01,  1.92549363e-01,  5.08511007e-01, -1.69462532e-01,\n",
              "       -2.03281432e-01, -2.11760938e-01,  1.84702445e-02, -1.41648650e-01,\n",
              "        9.04815644e-02, -3.84754062e-01, -2.85706937e-01,  1.67624243e-02,\n",
              "       -5.10523133e-02,  1.77290797e-01,  2.57655382e-01, -5.45409210e-02,\n",
              "        6.63578570e-01,  2.01073140e-02, -4.36469093e-02, -2.20919520e-01,\n",
              "       -4.49756771e-01, -4.08050388e-01,  6.16624355e-02, -4.53262366e-02,\n",
              "       -1.64553225e-01,  1.10186808e-01, -2.61494905e-01, -1.31223910e-02,\n",
              "        5.65348983e-01,  3.68764222e-01,  4.95773554e-01, -1.38958946e-01,\n",
              "       -1.19103670e-01, -2.61440035e-02, -3.46504092e-01, -7.42077678e-02,\n",
              "       -3.39797884e-01,  4.93900448e-01, -1.18088812e-01,  2.47939289e-01,\n",
              "        1.47811368e-01,  3.65555644e-01,  1.14010304e-01, -2.74137259e-01,\n",
              "        1.68951824e-01,  2.59054005e-01, -5.67177653e-01, -2.76986335e-04,\n",
              "       -1.65482081e-04, -4.99064982e-01,  4.01902407e-01,  1.34434635e-02,\n",
              "       -3.46415162e-01, -1.45014720e-02, -2.34087989e-01,  3.29331398e-01,\n",
              "        1.53453007e-01, -3.15813541e-01, -1.58332899e-01, -4.80236799e-01,\n",
              "        1.62002221e-01,  3.47899646e-01, -1.91828758e-02, -3.58999878e-01,\n",
              "        2.91779965e-01,  3.20502818e-01,  1.78976983e-01,  1.31656736e-01,\n",
              "        2.32703798e-02, -2.51051754e-01, -8.92030522e-02,  4.41192150e-01,\n",
              "       -1.59694791e-01, -2.26691008e-01, -3.26424211e-01,  6.61881343e-02],\n",
              "      dtype=float32)"
            ]
          },
          "metadata": {},
          "execution_count": 5
        }
      ]
    },
    {
      "cell_type": "code",
      "source": [
        "model.wv.most_similar('mouth', topn=10)"
      ],
      "metadata": {
        "colab": {
          "base_uri": "https://localhost:8080/"
        },
        "id": "I_0eHt3ym_ly",
        "outputId": "174bfa77-7d1c-43cd-ff7e-3f210d71e326"
      },
      "execution_count": 6,
      "outputs": [
        {
          "output_type": "execute_result",
          "data": {
            "text/plain": [
              "[('breath', 0.9332872033119202),\n",
              " ('chest', 0.9313108921051025),\n",
              " ('neck', 0.9278647899627686),\n",
              " ('lips', 0.9148125052452087),\n",
              " ('nose', 0.913450300693512),\n",
              " ('knees', 0.911310613155365),\n",
              " ('chair', 0.9111860990524292),\n",
              " ('pocket', 0.9107389450073242),\n",
              " ('hat', 0.9100441932678223),\n",
              " ('gun', 0.9089126586914062)]"
            ]
          },
          "metadata": {},
          "execution_count": 6
        }
      ]
    },
    {
      "cell_type": "code",
      "source": [
        "model.wv.most_similar('computer', topn=10)"
      ],
      "metadata": {
        "colab": {
          "base_uri": "https://localhost:8080/"
        },
        "id": "chts6oRBnBxh",
        "outputId": "ae3a1b58-7a84-4941-c69d-bf8f9e60f060"
      },
      "execution_count": 7,
      "outputs": [
        {
          "output_type": "execute_result",
          "data": {
            "text/plain": [
              "[('gyro-stabilized', 0.9665665626525879),\n",
              " ('configuration', 0.9653477072715759),\n",
              " (\"C'\", 0.9648194313049316),\n",
              " ('recognizable', 0.9644199013710022),\n",
              " ('subspace', 0.9633827805519104),\n",
              " ('photo', 0.9633609056472778),\n",
              " ('torque', 0.9631847739219666),\n",
              " ('DIOCS', 0.9631732106208801),\n",
              " ('comparing', 0.9624504446983337),\n",
              " ('generator', 0.9619882702827454)]"
            ]
          },
          "metadata": {},
          "execution_count": 7
        }
      ]
    }
  ]
}